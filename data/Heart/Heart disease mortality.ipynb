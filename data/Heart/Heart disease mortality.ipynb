{
 "cells": [
  {
   "cell_type": "code",
   "execution_count": 1,
   "id": "fe813106",
   "metadata": {},
   "outputs": [],
   "source": [
    "import pandas as pd\n",
    "import warnings\n",
    "warnings.filterwarnings(\"ignore\")"
   ]
  },
  {
   "cell_type": "code",
   "execution_count": 2,
   "id": "969cca23",
   "metadata": {},
   "outputs": [],
   "source": [
    "df=pd.read_csv('Heart1.csv')"
   ]
  },
  {
   "cell_type": "code",
   "execution_count": 3,
   "id": "cd8de759",
   "metadata": {},
   "outputs": [],
   "source": [
    "df = df.iloc[2: , :]\n",
    "df['VRHD_2014'] = pd.to_numeric(df['VRHD_2014'])\n",
    "df['VRHD_2014'] = df['VRHD_2014'].astype(int)\n",
    "df = df.drop(columns=['Layer','GEOID','VRHD_2014_moe'])\n",
    "df.rename(columns = {'VRHD_2014':'Deaths'}, inplace = True)\n",
    "df.insert(2, 'Year', '2014')"
   ]
  },
  {
   "cell_type": "code",
   "execution_count": 4,
   "id": "6ef07078",
   "metadata": {},
   "outputs": [
    {
     "data": {
      "text/html": [
       "<div>\n",
       "<style scoped>\n",
       "    .dataframe tbody tr th:only-of-type {\n",
       "        vertical-align: middle;\n",
       "    }\n",
       "\n",
       "    .dataframe tbody tr th {\n",
       "        vertical-align: top;\n",
       "    }\n",
       "\n",
       "    .dataframe thead th {\n",
       "        text-align: right;\n",
       "    }\n",
       "</style>\n",
       "<table border=\"1\" class=\"dataframe\">\n",
       "  <thead>\n",
       "    <tr style=\"text-align: right;\">\n",
       "      <th></th>\n",
       "      <th>Name</th>\n",
       "      <th>Deaths</th>\n",
       "      <th>Year</th>\n",
       "    </tr>\n",
       "  </thead>\n",
       "  <tbody>\n",
       "    <tr>\n",
       "      <th>2</th>\n",
       "      <td>Chicago, IL</td>\n",
       "      <td>4844</td>\n",
       "      <td>2014</td>\n",
       "    </tr>\n",
       "  </tbody>\n",
       "</table>\n",
       "</div>"
      ],
      "text/plain": [
       "          Name  Deaths  Year\n",
       "2  Chicago, IL    4844  2014"
      ]
     },
     "execution_count": 4,
     "metadata": {},
     "output_type": "execute_result"
    }
   ],
   "source": [
    "df"
   ]
  },
  {
   "cell_type": "code",
   "execution_count": 5,
   "id": "b4b04d23",
   "metadata": {},
   "outputs": [],
   "source": [
    "df2=pd.read_csv('Heart2.csv')\n",
    "df2 = df2.iloc[2: , :]\n",
    "df2['VRHD_2015'] = pd.to_numeric(df2['VRHD_2015'])\n",
    "df2['VRHD_2015'] = df2['VRHD_2015'].astype(int)\n",
    "df2 = df2.drop(columns=['Layer','GEOID','VRHD_2015_moe'])\n",
    "df2.insert(2, 'Year', '2015')\n",
    "df2.rename(columns = {'VRHD_2015':'Deaths'}, inplace = True)"
   ]
  },
  {
   "cell_type": "code",
   "execution_count": 6,
   "id": "42ab8a03",
   "metadata": {},
   "outputs": [
    {
     "data": {
      "text/html": [
       "<div>\n",
       "<style scoped>\n",
       "    .dataframe tbody tr th:only-of-type {\n",
       "        vertical-align: middle;\n",
       "    }\n",
       "\n",
       "    .dataframe tbody tr th {\n",
       "        vertical-align: top;\n",
       "    }\n",
       "\n",
       "    .dataframe thead th {\n",
       "        text-align: right;\n",
       "    }\n",
       "</style>\n",
       "<table border=\"1\" class=\"dataframe\">\n",
       "  <thead>\n",
       "    <tr style=\"text-align: right;\">\n",
       "      <th></th>\n",
       "      <th>Name</th>\n",
       "      <th>Deaths</th>\n",
       "      <th>Year</th>\n",
       "    </tr>\n",
       "  </thead>\n",
       "  <tbody>\n",
       "    <tr>\n",
       "      <th>2</th>\n",
       "      <td>Chicago, IL</td>\n",
       "      <td>4913</td>\n",
       "      <td>2015</td>\n",
       "    </tr>\n",
       "  </tbody>\n",
       "</table>\n",
       "</div>"
      ],
      "text/plain": [
       "          Name  Deaths  Year\n",
       "2  Chicago, IL    4913  2015"
      ]
     },
     "execution_count": 6,
     "metadata": {},
     "output_type": "execute_result"
    }
   ],
   "source": [
    "df2"
   ]
  },
  {
   "cell_type": "code",
   "execution_count": 7,
   "id": "bf72c56b",
   "metadata": {},
   "outputs": [],
   "source": [
    "df3=pd.read_csv('Heart3.csv')\n",
    "df3 = df3.iloc[2: , :]\n",
    "df3.rename(columns = {'VRHD_2016':'Deaths'}, inplace = True)\n",
    "df3['Deaths'] = pd.to_numeric(df3['Deaths'])\n",
    "df3['Deaths'] = df3['Deaths'].astype(int)\n",
    "df3 = df3.drop(columns=['Layer','GEOID','VRHD_2016_moe'])\n",
    "df3.insert(2, 'Year', '2016')"
   ]
  },
  {
   "cell_type": "code",
   "execution_count": 8,
   "id": "de1231e2",
   "metadata": {},
   "outputs": [
    {
     "data": {
      "text/html": [
       "<div>\n",
       "<style scoped>\n",
       "    .dataframe tbody tr th:only-of-type {\n",
       "        vertical-align: middle;\n",
       "    }\n",
       "\n",
       "    .dataframe tbody tr th {\n",
       "        vertical-align: top;\n",
       "    }\n",
       "\n",
       "    .dataframe thead th {\n",
       "        text-align: right;\n",
       "    }\n",
       "</style>\n",
       "<table border=\"1\" class=\"dataframe\">\n",
       "  <thead>\n",
       "    <tr style=\"text-align: right;\">\n",
       "      <th></th>\n",
       "      <th>Name</th>\n",
       "      <th>Deaths</th>\n",
       "      <th>Year</th>\n",
       "    </tr>\n",
       "  </thead>\n",
       "  <tbody>\n",
       "    <tr>\n",
       "      <th>2</th>\n",
       "      <td>Chicago, IL</td>\n",
       "      <td>4899</td>\n",
       "      <td>2016</td>\n",
       "    </tr>\n",
       "  </tbody>\n",
       "</table>\n",
       "</div>"
      ],
      "text/plain": [
       "          Name  Deaths  Year\n",
       "2  Chicago, IL    4899  2016"
      ]
     },
     "execution_count": 8,
     "metadata": {},
     "output_type": "execute_result"
    }
   ],
   "source": [
    "df3"
   ]
  },
  {
   "cell_type": "code",
   "execution_count": 9,
   "id": "251e9a3f",
   "metadata": {},
   "outputs": [],
   "source": [
    "df4=pd.read_csv('Heart4.csv')\n",
    "df4 = df4.iloc[2: , :]\n",
    "df4.rename(columns = {'VRHD_2017':'Deaths'}, inplace = True)\n",
    "df4['Deaths'] = pd.to_numeric(df4['Deaths'])\n",
    "df4['Deaths'] = df4['Deaths'].astype(int)\n",
    "df4 = df4.drop(columns=['Layer','GEOID','VRHD_2017_moe'])\n",
    "df4.insert(2, 'Year', '2017')"
   ]
  },
  {
   "cell_type": "code",
   "execution_count": 10,
   "id": "2fb17ade",
   "metadata": {},
   "outputs": [
    {
     "data": {
      "text/html": [
       "<div>\n",
       "<style scoped>\n",
       "    .dataframe tbody tr th:only-of-type {\n",
       "        vertical-align: middle;\n",
       "    }\n",
       "\n",
       "    .dataframe tbody tr th {\n",
       "        vertical-align: top;\n",
       "    }\n",
       "\n",
       "    .dataframe thead th {\n",
       "        text-align: right;\n",
       "    }\n",
       "</style>\n",
       "<table border=\"1\" class=\"dataframe\">\n",
       "  <thead>\n",
       "    <tr style=\"text-align: right;\">\n",
       "      <th></th>\n",
       "      <th>Name</th>\n",
       "      <th>Deaths</th>\n",
       "      <th>Year</th>\n",
       "    </tr>\n",
       "  </thead>\n",
       "  <tbody>\n",
       "    <tr>\n",
       "      <th>2</th>\n",
       "      <td>Chicago, IL</td>\n",
       "      <td>4774</td>\n",
       "      <td>2017</td>\n",
       "    </tr>\n",
       "  </tbody>\n",
       "</table>\n",
       "</div>"
      ],
      "text/plain": [
       "          Name  Deaths  Year\n",
       "2  Chicago, IL    4774  2017"
      ]
     },
     "execution_count": 10,
     "metadata": {},
     "output_type": "execute_result"
    }
   ],
   "source": [
    "df4"
   ]
  },
  {
   "cell_type": "code",
   "execution_count": 11,
   "id": "0f09d973",
   "metadata": {},
   "outputs": [],
   "source": [
    "df5=pd.read_csv('Heart5.csv')\n",
    "df5 = df5.iloc[2: , :]\n",
    "df5.rename(columns = {'VRHD_2018':'Deaths'}, inplace = True)\n",
    "df5['Deaths'] = pd.to_numeric(df5['Deaths'])\n",
    "df5['Deaths'] = df5['Deaths'].astype(int)\n",
    "df5 = df5.drop(columns=['Layer','GEOID','VRHD_2018_moe'])\n",
    "df5.insert(2, 'Year', '2018')"
   ]
  },
  {
   "cell_type": "code",
   "execution_count": 12,
   "id": "f47472e1",
   "metadata": {},
   "outputs": [],
   "source": [
    "df6=pd.read_csv('Heart6.csv')\n",
    "df6 = df6.iloc[2: , :]\n",
    "df6.rename(columns = {'VRHD_2019':'Deaths'}, inplace = True)\n",
    "df6['Deaths'] = pd.to_numeric(df6['Deaths'])\n",
    "df6['Deaths'] = df6['Deaths'].astype(int)\n",
    "df6 = df6.drop(columns=['Layer','GEOID','VRHD_2019_moe'])\n",
    "df6.insert(2, 'Year', '2019')"
   ]
  },
  {
   "cell_type": "code",
   "execution_count": 13,
   "id": "fe0d754d",
   "metadata": {},
   "outputs": [],
   "source": [
    "df7=pd.read_csv('Heart7.csv')\n",
    "df7 = df7.iloc[2: , :]\n",
    "df7.rename(columns = {'VRHD_2020':'Deaths'}, inplace = True)\n",
    "df7['Deaths'] = pd.to_numeric(df7['Deaths'])\n",
    "df7['Deaths'] = df7['Deaths'].astype(int)\n",
    "df7 = df7.drop(columns=['Layer','GEOID','VRHD_2020_moe'])\n",
    "df7.insert(2, 'Year', '2020')"
   ]
  },
  {
   "cell_type": "code",
   "execution_count": 15,
   "id": "e99ffc35",
   "metadata": {},
   "outputs": [],
   "source": [
    "vertical_stack = pd.concat([df,df2,df3,df4,df5,df6,df7], axis=0)"
   ]
  },
  {
   "cell_type": "code",
   "execution_count": 16,
   "id": "5b32168c",
   "metadata": {},
   "outputs": [],
   "source": [
    "vertical_stack.rename(columns = {'Name':'City'}, inplace = True)"
   ]
  },
  {
   "cell_type": "code",
   "execution_count": 17,
   "id": "24de0ba8",
   "metadata": {},
   "outputs": [
    {
     "data": {
      "text/html": [
       "<div>\n",
       "<style scoped>\n",
       "    .dataframe tbody tr th:only-of-type {\n",
       "        vertical-align: middle;\n",
       "    }\n",
       "\n",
       "    .dataframe tbody tr th {\n",
       "        vertical-align: top;\n",
       "    }\n",
       "\n",
       "    .dataframe thead th {\n",
       "        text-align: right;\n",
       "    }\n",
       "</style>\n",
       "<table border=\"1\" class=\"dataframe\">\n",
       "  <thead>\n",
       "    <tr style=\"text-align: right;\">\n",
       "      <th></th>\n",
       "      <th>City</th>\n",
       "      <th>Deaths</th>\n",
       "      <th>Year</th>\n",
       "    </tr>\n",
       "  </thead>\n",
       "  <tbody>\n",
       "    <tr>\n",
       "      <th>2</th>\n",
       "      <td>Chicago, IL</td>\n",
       "      <td>4844</td>\n",
       "      <td>2014</td>\n",
       "    </tr>\n",
       "    <tr>\n",
       "      <th>2</th>\n",
       "      <td>Chicago, IL</td>\n",
       "      <td>4913</td>\n",
       "      <td>2015</td>\n",
       "    </tr>\n",
       "    <tr>\n",
       "      <th>2</th>\n",
       "      <td>Chicago, IL</td>\n",
       "      <td>4899</td>\n",
       "      <td>2016</td>\n",
       "    </tr>\n",
       "    <tr>\n",
       "      <th>2</th>\n",
       "      <td>Chicago, IL</td>\n",
       "      <td>4774</td>\n",
       "      <td>2017</td>\n",
       "    </tr>\n",
       "    <tr>\n",
       "      <th>2</th>\n",
       "      <td>Chicago, IL</td>\n",
       "      <td>4843</td>\n",
       "      <td>2018</td>\n",
       "    </tr>\n",
       "    <tr>\n",
       "      <th>2</th>\n",
       "      <td>Chicago, IL</td>\n",
       "      <td>4831</td>\n",
       "      <td>2019</td>\n",
       "    </tr>\n",
       "    <tr>\n",
       "      <th>2</th>\n",
       "      <td>Chicago, IL</td>\n",
       "      <td>5325</td>\n",
       "      <td>2020</td>\n",
       "    </tr>\n",
       "  </tbody>\n",
       "</table>\n",
       "</div>"
      ],
      "text/plain": [
       "          City  Deaths  Year\n",
       "2  Chicago, IL    4844  2014\n",
       "2  Chicago, IL    4913  2015\n",
       "2  Chicago, IL    4899  2016\n",
       "2  Chicago, IL    4774  2017\n",
       "2  Chicago, IL    4843  2018\n",
       "2  Chicago, IL    4831  2019\n",
       "2  Chicago, IL    5325  2020"
      ]
     },
     "execution_count": 17,
     "metadata": {},
     "output_type": "execute_result"
    }
   ],
   "source": [
    "vertical_stack"
   ]
  },
  {
   "cell_type": "code",
   "execution_count": 18,
   "id": "7b851c3b",
   "metadata": {},
   "outputs": [],
   "source": [
    "vertical_stack.to_csv('Heart_disease_mortality.csv', index=False)"
   ]
  },
  {
   "cell_type": "code",
   "execution_count": null,
   "id": "e18dc535",
   "metadata": {},
   "outputs": [],
   "source": []
  }
 ],
 "metadata": {
  "kernelspec": {
   "display_name": "Python 3 (ipykernel)",
   "language": "python",
   "name": "python3"
  },
  "language_info": {
   "codemirror_mode": {
    "name": "ipython",
    "version": 3
   },
   "file_extension": ".py",
   "mimetype": "text/x-python",
   "name": "python",
   "nbconvert_exporter": "python",
   "pygments_lexer": "ipython3",
   "version": "3.9.7"
  }
 },
 "nbformat": 4,
 "nbformat_minor": 5
}
