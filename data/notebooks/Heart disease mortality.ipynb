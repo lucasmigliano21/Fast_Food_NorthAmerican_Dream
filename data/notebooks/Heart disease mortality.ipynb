{
 "cells": [
  {
   "cell_type": "code",
   "execution_count": 1,
   "id": "51be50d4",
   "metadata": {},
   "outputs": [],
   "source": [
    "import pandas as pd\n",
    "import warnings\n",
    "warnings.filterwarnings(\"ignore\")"
   ]
  },
  {
   "cell_type": "code",
   "execution_count": 2,
   "id": "3d390dcc",
   "metadata": {},
   "outputs": [],
   "source": [
    "df=pd.read_csv('./data/Heart/Heart1.csv')"
   ]
  },
  {
   "cell_type": "code",
   "execution_count": 3,
   "id": "1150f0f7",
   "metadata": {},
   "outputs": [],
   "source": [
    "df = df.iloc[2: , :]\n",
    "df['VRHD_2014'] = pd.to_numeric(df['VRHD_2014'])\n",
    "df['VRHD_2014'] = df['VRHD_2014'].astype(int)\n",
    "df = df.drop(columns=['Layer','GEOID','VRHD_2014_moe'])\n",
    "df.rename(columns = {'VRHD_2014':'Deaths'}, inplace = True)\n",
    "df.insert(2, 'Year', '2014')"
   ]
  },
  {
   "cell_type": "code",
   "execution_count": 5,
   "id": "3a94331e",
   "metadata": {},
   "outputs": [],
   "source": [
    "df2=pd.read_csv('./data/Heart/Heart2.csv')\n",
    "df2 = df2.iloc[2: , :]\n",
    "df2['VRHD_2015'] = pd.to_numeric(df2['VRHD_2015'])\n",
    "df2['VRHD_2015'] = df2['VRHD_2015'].astype(int)\n",
    "df2 = df2.drop(columns=['Layer','GEOID','VRHD_2015_moe'])\n",
    "df2.insert(2, 'Year', '2015')\n",
    "df2.rename(columns = {'VRHD_2015':'Deaths'}, inplace = True)"
   ]
  },
  {
   "cell_type": "code",
   "execution_count": 7,
   "id": "26a6a3a9",
   "metadata": {},
   "outputs": [],
   "source": [
    "df3=pd.read_csv('./data/Heart/Heart3.csv')\n",
    "df3 = df3.iloc[2: , :]\n",
    "df3.rename(columns = {'VRHD_2016':'Deaths'}, inplace = True)\n",
    "df3['Deaths'] = pd.to_numeric(df3['Deaths'])\n",
    "df3['Deaths'] = df3['Deaths'].astype(int)\n",
    "df3 = df3.drop(columns=['Layer','GEOID','VRHD_2016_moe'])\n",
    "df3.insert(2, 'Year', '2016')"
   ]
  },
  {
   "cell_type": "code",
   "execution_count": 9,
   "id": "ec3592f0",
   "metadata": {},
   "outputs": [],
   "source": [
    "df4=pd.read_csv('./data/Heart/Heart4.csv')\n",
    "df4 = df4.iloc[2: , :]\n",
    "df4.rename(columns = {'VRHD_2017':'Deaths'}, inplace = True)\n",
    "df4['Deaths'] = pd.to_numeric(df4['Deaths'])\n",
    "df4['Deaths'] = df4['Deaths'].astype(int)\n",
    "df4 = df4.drop(columns=['Layer','GEOID','VRHD_2017_moe'])\n",
    "df4.insert(2, 'Year', '2017')"
   ]
  },
  {
   "cell_type": "code",
   "execution_count": 13,
   "id": "e2476db0",
   "metadata": {},
   "outputs": [],
   "source": [
    "df5=pd.read_csv('./data/Heart/Heart5.csv')\n",
    "df5 = df5.iloc[2: , :]\n",
    "df5.rename(columns = {'VRHD_2018':'Deaths'}, inplace = True)\n",
    "df5['Deaths'] = pd.to_numeric(df5['Deaths'])\n",
    "df5['Deaths'] = df5['Deaths'].astype(int)\n",
    "df5 = df5.drop(columns=['Layer','GEOID','VRHD_2018_moe'])\n",
    "df5.insert(2, 'Year', '2018')"
   ]
  },
  {
   "cell_type": "code",
   "execution_count": 15,
   "id": "56d291df",
   "metadata": {},
   "outputs": [],
   "source": [
    "vertical_stack = pd.concat([df,df2,df3,df4,df5], axis=0)"
   ]
  },
  {
   "cell_type": "code",
   "execution_count": 17,
   "id": "d9f09d51",
   "metadata": {},
   "outputs": [],
   "source": [
    "vertical_stack.rename(columns = {'Name':'City'}, inplace = True)"
   ]
  },
  {
   "cell_type": "code",
   "execution_count": 18,
   "id": "ba74f11d",
   "metadata": {},
   "outputs": [
    {
     "data": {
      "text/html": [
       "<div>\n",
       "<style scoped>\n",
       "    .dataframe tbody tr th:only-of-type {\n",
       "        vertical-align: middle;\n",
       "    }\n",
       "\n",
       "    .dataframe tbody tr th {\n",
       "        vertical-align: top;\n",
       "    }\n",
       "\n",
       "    .dataframe thead th {\n",
       "        text-align: right;\n",
       "    }\n",
       "</style>\n",
       "<table border=\"1\" class=\"dataframe\">\n",
       "  <thead>\n",
       "    <tr style=\"text-align: right;\">\n",
       "      <th></th>\n",
       "      <th>City</th>\n",
       "      <th>Deaths</th>\n",
       "      <th>Year</th>\n",
       "    </tr>\n",
       "  </thead>\n",
       "  <tbody>\n",
       "    <tr>\n",
       "      <th>2</th>\n",
       "      <td>Chicago, IL</td>\n",
       "      <td>4844</td>\n",
       "      <td>2014</td>\n",
       "    </tr>\n",
       "    <tr>\n",
       "      <th>2</th>\n",
       "      <td>Chicago, IL</td>\n",
       "      <td>4913</td>\n",
       "      <td>2015</td>\n",
       "    </tr>\n",
       "    <tr>\n",
       "      <th>2</th>\n",
       "      <td>Chicago, IL</td>\n",
       "      <td>4899</td>\n",
       "      <td>2016</td>\n",
       "    </tr>\n",
       "    <tr>\n",
       "      <th>2</th>\n",
       "      <td>Chicago, IL</td>\n",
       "      <td>4774</td>\n",
       "      <td>2017</td>\n",
       "    </tr>\n",
       "    <tr>\n",
       "      <th>2</th>\n",
       "      <td>Chicago, IL</td>\n",
       "      <td>4843</td>\n",
       "      <td>2018</td>\n",
       "    </tr>\n",
       "  </tbody>\n",
       "</table>\n",
       "</div>"
      ],
      "text/plain": [
       "          City  Deaths  Year\n",
       "2  Chicago, IL    4844  2014\n",
       "2  Chicago, IL    4913  2015\n",
       "2  Chicago, IL    4899  2016\n",
       "2  Chicago, IL    4774  2017\n",
       "2  Chicago, IL    4843  2018"
      ]
     },
     "execution_count": 18,
     "metadata": {},
     "output_type": "execute_result"
    }
   ],
   "source": [
    "vertical_stack"
   ]
  },
  {
   "cell_type": "code",
   "execution_count": 19,
   "id": "725a8416",
   "metadata": {},
   "outputs": [],
   "source": [
    "vertical_stack.to_csv('Heart_disease_mortality.csv', index=False)"
   ]
  }
 ],
 "metadata": {
  "kernelspec": {
   "display_name": "Python 3 (ipykernel)",
   "language": "python",
   "name": "python3"
  },
  "language_info": {
   "codemirror_mode": {
    "name": "ipython",
    "version": 3
   },
   "file_extension": ".py",
   "mimetype": "text/x-python",
   "name": "python",
   "nbconvert_exporter": "python",
   "pygments_lexer": "ipython3",
   "version": "3.9.7"
  }
 },
 "nbformat": 4,
 "nbformat_minor": 5
}
