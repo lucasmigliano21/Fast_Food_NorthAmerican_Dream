{
 "cells": [
  {
   "cell_type": "code",
   "execution_count": 1,
   "id": "6b8ea4b6",
   "metadata": {},
   "outputs": [],
   "source": [
    "import pandas as pd"
   ]
  },
  {
   "cell_type": "code",
   "execution_count": 36,
   "id": "a6854b64",
   "metadata": {},
   "outputs": [],
   "source": [
    "df=pd.read_csv('./data/Food_Inspections.csv')"
   ]
  },
  {
   "cell_type": "code",
   "execution_count": 37,
   "id": "adc85327",
   "metadata": {},
   "outputs": [],
   "source": [
    "df.rename(columns = {'DBA Name':'Name'}, inplace = True)"
   ]
  },
  {
   "cell_type": "code",
   "execution_count": 38,
   "id": "0cacf88b",
   "metadata": {},
   "outputs": [],
   "source": [
    "df2 = df.drop(columns=['Risk','AKA Name', 'License #','Results','Violations','Latitude','Longitude', 'Location'])"
   ]
  },
  {
   "cell_type": "code",
   "execution_count": 39,
   "id": "a31d28d9",
   "metadata": {},
   "outputs": [
    {
     "data": {
      "text/plain": [
       "array(['Restaurant'], dtype=object)"
      ]
     },
     "execution_count": 39,
     "metadata": {},
     "output_type": "execute_result"
    }
   ],
   "source": [
    "df2['Facility Type'].unique()"
   ]
  },
  {
   "cell_type": "code",
   "execution_count": 40,
   "id": "e94c21a1",
   "metadata": {},
   "outputs": [],
   "source": [
    "df2['Inspection Date'] = pd.to_datetime(df['Inspection Date'])"
   ]
  },
  {
   "cell_type": "code",
   "execution_count": 41,
   "id": "ad2da60a",
   "metadata": {},
   "outputs": [],
   "source": [
    "df2['year'] = df2['Inspection Date'].dt.year"
   ]
  },
  {
   "cell_type": "code",
   "execution_count": 42,
   "id": "efa8669d",
   "metadata": {},
   "outputs": [],
   "source": [
    "df2=df2[(df2['year'] >= 2013) & (df2['year'] <= 2018)]"
   ]
  },
  {
   "cell_type": "code",
   "execution_count": 44,
   "id": "cee0dd69",
   "metadata": {},
   "outputs": [],
   "source": [
    "df2 = df2.drop(columns=['Inspection ID','Inspection Type'])"
   ]
  },
  {
   "cell_type": "code",
   "execution_count": 45,
   "id": "ba7e4835",
   "metadata": {},
   "outputs": [
    {
     "data": {
      "text/plain": [
       "0                                 The Spot\n",
       "1                       Number 1 Chop Suey\n",
       "2             Captain Hooks Fish & Chicken\n",
       "3                             Nick'S Gyros\n",
       "4                                   Subway\n",
       "                       ...                \n",
       "86692    David Jenson - Personal Chef ,Ltd\n",
       "86693                    Mini Chi Chi Inc.\n",
       "86694             See Thru Chinese Kitchen\n",
       "86695                             Ranallis\n",
       "86696                             Domino'S\n",
       "Name: Name, Length: 86697, dtype: object"
      ]
     },
     "execution_count": 45,
     "metadata": {},
     "output_type": "execute_result"
    }
   ],
   "source": [
    "df2['Name'].str.title()"
   ]
  },
  {
   "cell_type": "code",
   "execution_count": 46,
   "id": "aec95250",
   "metadata": {},
   "outputs": [],
   "source": [
    "df2['Name']=df2['Name'].str.title()\n",
    "df2['Address']=df2['Address'].str.title()\n",
    "df2['City']=df2['City'].str.title()"
   ]
  },
  {
   "cell_type": "code",
   "execution_count": 47,
   "id": "7ab7fc66",
   "metadata": {},
   "outputs": [],
   "source": [
    "df2 = df2.drop(columns=['State','Zip','Facility Type','Inspection Date'])"
   ]
  },
  {
   "cell_type": "code",
   "execution_count": 48,
   "id": "a641ab1d",
   "metadata": {},
   "outputs": [
    {
     "name": "stdout",
     "output_type": "stream",
     "text": [
      "<class 'pandas.core.frame.DataFrame'>\n",
      "Int64Index: 86697 entries, 0 to 86696\n",
      "Data columns (total 4 columns):\n",
      " #   Column   Non-Null Count  Dtype \n",
      "---  ------   --------------  ----- \n",
      " 0   Name     86697 non-null  object\n",
      " 1   Address  86697 non-null  object\n",
      " 2   City     86647 non-null  object\n",
      " 3   year     86697 non-null  int64 \n",
      "dtypes: int64(1), object(3)\n",
      "memory usage: 3.3+ MB\n"
     ]
    }
   ],
   "source": [
    "df2.info()"
   ]
  },
  {
   "cell_type": "code",
   "execution_count": 49,
   "id": "37419044",
   "metadata": {},
   "outputs": [
    {
     "data": {
      "text/html": [
       "<div>\n",
       "<style scoped>\n",
       "    .dataframe tbody tr th:only-of-type {\n",
       "        vertical-align: middle;\n",
       "    }\n",
       "\n",
       "    .dataframe tbody tr th {\n",
       "        vertical-align: top;\n",
       "    }\n",
       "\n",
       "    .dataframe thead th {\n",
       "        text-align: right;\n",
       "    }\n",
       "</style>\n",
       "<table border=\"1\" class=\"dataframe\">\n",
       "  <thead>\n",
       "    <tr style=\"text-align: right;\">\n",
       "      <th></th>\n",
       "      <th>Name</th>\n",
       "      <th>Address</th>\n",
       "      <th>City</th>\n",
       "      <th>year</th>\n",
       "    </tr>\n",
       "  </thead>\n",
       "  <tbody>\n",
       "    <tr>\n",
       "      <th>0</th>\n",
       "      <td>The Spot</td>\n",
       "      <td>4437 N Broadway</td>\n",
       "      <td>Chicago</td>\n",
       "      <td>2013</td>\n",
       "    </tr>\n",
       "    <tr>\n",
       "      <th>1</th>\n",
       "      <td>Number 1 Chop Suey</td>\n",
       "      <td>7342 S Stony Island Ave</td>\n",
       "      <td>Chicago</td>\n",
       "      <td>2013</td>\n",
       "    </tr>\n",
       "    <tr>\n",
       "      <th>2</th>\n",
       "      <td>Captain Hooks Fish &amp; Chicken</td>\n",
       "      <td>8550 S Cottage Grove Ave</td>\n",
       "      <td>Chicago</td>\n",
       "      <td>2013</td>\n",
       "    </tr>\n",
       "    <tr>\n",
       "      <th>3</th>\n",
       "      <td>Nick'S Gyros</td>\n",
       "      <td>2011 W 63Rd St</td>\n",
       "      <td>Chicago</td>\n",
       "      <td>2013</td>\n",
       "    </tr>\n",
       "    <tr>\n",
       "      <th>4</th>\n",
       "      <td>Subway</td>\n",
       "      <td>5131 S Pulaski Rd</td>\n",
       "      <td>Chicago</td>\n",
       "      <td>2013</td>\n",
       "    </tr>\n",
       "    <tr>\n",
       "      <th>...</th>\n",
       "      <td>...</td>\n",
       "      <td>...</td>\n",
       "      <td>...</td>\n",
       "      <td>...</td>\n",
       "    </tr>\n",
       "    <tr>\n",
       "      <th>86687</th>\n",
       "      <td>El Basurero Restaurant Inc.</td>\n",
       "      <td>4781 S Archer Ave</td>\n",
       "      <td>Chicago</td>\n",
       "      <td>2018</td>\n",
       "    </tr>\n",
       "    <tr>\n",
       "      <th>86689</th>\n",
       "      <td>Dairy Queen Brazer</td>\n",
       "      <td>5636 W Irving Park Rd</td>\n",
       "      <td>Chicago</td>\n",
       "      <td>2018</td>\n",
       "    </tr>\n",
       "    <tr>\n",
       "      <th>86692</th>\n",
       "      <td>David Jenson - Personal Chef ,Ltd</td>\n",
       "      <td>1901 S Racine Ave</td>\n",
       "      <td>Chicago</td>\n",
       "      <td>2018</td>\n",
       "    </tr>\n",
       "    <tr>\n",
       "      <th>86695</th>\n",
       "      <td>Ranallis</td>\n",
       "      <td>1508-1512 W Berwyn Ave</td>\n",
       "      <td>Chicago</td>\n",
       "      <td>2018</td>\n",
       "    </tr>\n",
       "    <tr>\n",
       "      <th>86696</th>\n",
       "      <td>Domino'S</td>\n",
       "      <td>5628 W Fullerton Ave</td>\n",
       "      <td>Chicago</td>\n",
       "      <td>2018</td>\n",
       "    </tr>\n",
       "  </tbody>\n",
       "</table>\n",
       "<p>49001 rows × 4 columns</p>\n",
       "</div>"
      ],
      "text/plain": [
       "                                    Name                    Address     City  \\\n",
       "0                               The Spot           4437 N Broadway   Chicago   \n",
       "1                     Number 1 Chop Suey   7342 S Stony Island Ave   Chicago   \n",
       "2           Captain Hooks Fish & Chicken  8550 S Cottage Grove Ave   Chicago   \n",
       "3                           Nick'S Gyros            2011 W 63Rd St   Chicago   \n",
       "4                                 Subway         5131 S Pulaski Rd   Chicago   \n",
       "...                                  ...                        ...      ...   \n",
       "86687        El Basurero Restaurant Inc.         4781 S Archer Ave   Chicago   \n",
       "86689                 Dairy Queen Brazer     5636 W Irving Park Rd   Chicago   \n",
       "86692  David Jenson - Personal Chef ,Ltd         1901 S Racine Ave   Chicago   \n",
       "86695                           Ranallis    1508-1512 W Berwyn Ave   Chicago   \n",
       "86696                           Domino'S      5628 W Fullerton Ave   Chicago   \n",
       "\n",
       "       year  \n",
       "0      2013  \n",
       "1      2013  \n",
       "2      2013  \n",
       "3      2013  \n",
       "4      2013  \n",
       "...     ...  \n",
       "86687  2018  \n",
       "86689  2018  \n",
       "86692  2018  \n",
       "86695  2018  \n",
       "86696  2018  \n",
       "\n",
       "[49001 rows x 4 columns]"
      ]
     },
     "execution_count": 49,
     "metadata": {},
     "output_type": "execute_result"
    }
   ],
   "source": [
    "df2.drop_duplicates()"
   ]
  },
  {
   "cell_type": "code",
   "execution_count": 51,
   "id": "43c88934",
   "metadata": {},
   "outputs": [],
   "source": [
    "df2.to_csv('clean_Chicago_restaurants.csv', index=False)"
   ]
  },
  {
   "cell_type": "code",
   "execution_count": null,
   "id": "eba7e2cc",
   "metadata": {},
   "outputs": [],
   "source": []
  }
 ],
 "metadata": {
  "kernelspec": {
   "display_name": "Python 3 (ipykernel)",
   "language": "python",
   "name": "python3"
  },
  "language_info": {
   "codemirror_mode": {
    "name": "ipython",
    "version": 3
   },
   "file_extension": ".py",
   "mimetype": "text/x-python",
   "name": "python",
   "nbconvert_exporter": "python",
   "pygments_lexer": "ipython3",
   "version": "3.9.7"
  }
 },
 "nbformat": 4,
 "nbformat_minor": 5
}
