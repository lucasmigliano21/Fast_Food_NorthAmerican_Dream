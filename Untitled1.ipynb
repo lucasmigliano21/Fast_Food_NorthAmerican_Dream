{
 "cells": [
  {
   "cell_type": "code",
   "execution_count": 2,
   "id": "3169f2a3",
   "metadata": {},
   "outputs": [
    {
     "name": "stdout",
     "output_type": "stream",
     "text": [
      "Collecting geopandas\n",
      "  Downloading geopandas-0.10.2-py2.py3-none-any.whl (1.0 MB)\n",
      "\u001b[K     |████████████████████████████████| 1.0 MB 2.9 MB/s eta 0:00:01\n",
      "\u001b[?25hCollecting shapely>=1.6\n",
      "  Downloading Shapely-1.8.2-cp39-cp39-macosx_10_9_x86_64.whl (1.2 MB)\n",
      "\u001b[K     |████████████████████████████████| 1.2 MB 2.8 MB/s eta 0:00:01\n",
      "\u001b[?25hCollecting fiona>=1.8\n",
      "  Downloading Fiona-1.8.21-cp39-cp39-macosx_10_10_x86_64.whl (18.5 MB)\n",
      "\u001b[K     |████████████████████████████████| 18.5 MB 2.7 MB/s eta 0:00:01\n",
      "\u001b[?25hRequirement already satisfied: pandas>=0.25.0 in /Users/lucasmigliano/opt/anaconda3/lib/python3.9/site-packages (from geopandas) (1.3.4)\n",
      "Collecting pyproj>=2.2.0\n",
      "  Downloading pyproj-3.3.1-cp39-cp39-macosx_10_9_x86_64.whl (8.2 MB)\n",
      "\u001b[K     |████████████████████████████████| 8.2 MB 2.9 MB/s eta 0:00:01\n",
      "\u001b[?25hRequirement already satisfied: certifi in /Users/lucasmigliano/opt/anaconda3/lib/python3.9/site-packages (from fiona>=1.8->geopandas) (2021.10.8)\n",
      "Collecting cligj>=0.5\n",
      "  Downloading cligj-0.7.2-py3-none-any.whl (7.1 kB)\n",
      "Collecting click-plugins>=1.0\n",
      "  Downloading click_plugins-1.1.1-py2.py3-none-any.whl (7.5 kB)\n",
      "Requirement already satisfied: attrs>=17 in /Users/lucasmigliano/opt/anaconda3/lib/python3.9/site-packages (from fiona>=1.8->geopandas) (21.2.0)\n",
      "Requirement already satisfied: setuptools in /Users/lucasmigliano/opt/anaconda3/lib/python3.9/site-packages (from fiona>=1.8->geopandas) (58.0.4)\n",
      "Collecting munch\n",
      "  Downloading munch-2.5.0-py2.py3-none-any.whl (10 kB)\n",
      "Requirement already satisfied: click>=4.0 in /Users/lucasmigliano/opt/anaconda3/lib/python3.9/site-packages (from fiona>=1.8->geopandas) (8.0.3)\n",
      "Requirement already satisfied: six>=1.7 in /Users/lucasmigliano/opt/anaconda3/lib/python3.9/site-packages (from fiona>=1.8->geopandas) (1.16.0)\n",
      "Requirement already satisfied: python-dateutil>=2.7.3 in /Users/lucasmigliano/opt/anaconda3/lib/python3.9/site-packages (from pandas>=0.25.0->geopandas) (2.8.2)\n",
      "Requirement already satisfied: pytz>=2017.3 in /Users/lucasmigliano/opt/anaconda3/lib/python3.9/site-packages (from pandas>=0.25.0->geopandas) (2021.3)\n",
      "Requirement already satisfied: numpy>=1.17.3 in /Users/lucasmigliano/opt/anaconda3/lib/python3.9/site-packages (from pandas>=0.25.0->geopandas) (1.20.3)\n",
      "Installing collected packages: munch, cligj, click-plugins, shapely, pyproj, fiona, geopandas\n",
      "Successfully installed click-plugins-1.1.1 cligj-0.7.2 fiona-1.8.21 geopandas-0.10.2 munch-2.5.0 pyproj-3.3.1 shapely-1.8.2\n",
      "Note: you may need to restart the kernel to use updated packages.\n"
     ]
    }
   ],
   "source": [
    "%pip install geopandas\n",
    "import requests\n",
    "import json\n",
    "import pandas as pd\n",
    "from functools import reduce\n",
    "import operator\n",
    "import geopandas as gpd\n",
    "import shapely.geometry\n",
    "from pymongo import MongoClient,GEOSPHERE\n",
    "client = MongoClient(\"mongodb://localhost:27017\")"
   ]
  },
  {
   "cell_type": "code",
   "execution_count": null,
   "id": "7fbba756",
   "metadata": {},
   "outputs": [],
   "source": [
    "def api_to_geopd (api_code,limit,tok1,tok2):\n",
    "\n",
    "    url_query = 'https://api.foursquare.com/v2/venues/explore'\n",
    "    in_lat = 37.7825098\n",
    "    in_long = -122.4077973\n",
    "\n",
    "    parametros ={\"client_id\" : tok1,\n",
    "            \"client_secret\" : tok2,\n",
    "            \"v\" : \"20180323\",\n",
    "             \"ll\": f\"37.7825098, -122.4077973\",\n",
    "             \"query\" :api_code,\n",
    "             \"limit\": limit\n",
    "            }\n",
    "    \n",
    "    resp = requests.get(url = url_query, params=parametros)\n",
    "    data = json.loads(resp.text)\n",
    "    decoding_data = data.get (\"response\")\n",
    "    decoded = decoding_data.get(\"groups\")[0]\n",
    "    my_items = decoded.get(\"items\")\n",
    "\n",
    "    mapa_nombre = [\"venue\", \"name\"]\n",
    "    m_latitude = [\"venue\", \"location\", \"lat\"]\n",
    "    m_longitude = [\"venue\", \"location\", \"lng\"]"
   ]
  },
  {
   "cell_type": "code",
   "execution_count": null,
   "id": "52e377a6",
   "metadata": {},
   "outputs": [],
   "source": [
    "def getFromDict(diccionario,mapa):\n",
    "        return reduce(operator.getitem,mapa,diccionario)\n",
    "\n",
    "    all_the_items =[]\n",
    "    for dic in my_items:\n",
    "        items_dict = {}\n",
    "        items_dict[\"name\"] = getFromDict(dic,mapa_nombre)\n",
    "        items_dict[\"latitud\"] = getFromDict(dic,m_latitude)\n",
    "        items_dict[\"longitud\"] = getFromDict(dic,m_longitude)\n",
    "        all_the_items.append(items_dict)\n",
    "    \n",
    "    dataframefinal = pd.DataFrame(all_the_items)\n",
    "    \n",
    "\n",
    "    gdf = gpd.GeoDataFrame(dataframefinal,geometry = gpd.points_from_xy(dataframefinal.longitud, dataframefinal.latitud))\n",
    "\n",
    "    return gdf"
   ]
  },
  {
   "cell_type": "code",
   "execution_count": null,
   "id": "0b1f6dd1",
   "metadata": {},
   "outputs": [],
   "source": [
    "def gpd_to_geojson(gdf,nombre):\n",
    "    gdf['geometry']=gdf['geometry'].apply(lambda x:shapely.geometry.mapping(x))\n",
    "\n",
    "    stb = client.ironhack\n",
    "    collection = stb[f\"{nombre}\"]\n",
    "    collection.create_index([(\"geometry\", GEOSPHERE)])\n",
    "\n",
    "    data = gdf.to_dict(orient='records')\n",
    "    collection.insert_many(data)\n",
    "        \n",
    "    return f\"{nombre}collection created\""
   ]
  }
 ],
 "metadata": {
  "kernelspec": {
   "display_name": "Python 3 (ipykernel)",
   "language": "python",
   "name": "python3"
  },
  "language_info": {
   "codemirror_mode": {
    "name": "ipython",
    "version": 3
   },
   "file_extension": ".py",
   "mimetype": "text/x-python",
   "name": "python",
   "nbconvert_exporter": "python",
   "pygments_lexer": "ipython3",
   "version": "3.9.7"
  }
 },
 "nbformat": 4,
 "nbformat_minor": 5
}
